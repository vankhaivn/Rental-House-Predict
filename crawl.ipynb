{
 "cells": [
  {
   "cell_type": "code",
   "execution_count": 1,
   "metadata": {},
   "outputs": [],
   "source": [
    "import pandas as pd\n",
    "import requests\n",
    "from bs4 import BeautifulSoup"
   ]
  },
  {
   "cell_type": "code",
   "execution_count": 2,
   "metadata": {},
   "outputs": [],
   "source": [
    "data = {\n",
    "    'road_width(m)': [],\n",
    "    'number_of_floor': [],\n",
    "    'number_of_bedroom': [],\n",
    "    'area(m2)': [],\n",
    "    'address': [],\n",
    "    'price(vnd)': []\n",
    "}\n",
    "df = pd.DataFrame(data)"
   ]
  },
  {
   "cell_type": "code",
   "execution_count": 3,
   "metadata": {},
   "outputs": [],
   "source": [
    "for i in range(1, 9):\n",
    "    url = 'https://alonhadat.com.vn/nha-dat/cho-thue/nha-trong-hem/3/da-nang/trang--' + str(i) +'.html'\n",
    "    response = requests.get(url)\n",
    "\n",
    "    if response.status_code == 200:\n",
    "        soup = BeautifulSoup(response.content, 'html.parser')\n",
    "        houses = soup.find_all('div', class_='content-item')\n",
    "\n",
    "        for house_id, house in enumerate(houses):\n",
    "            characteristic = house.find('div', class_='characteristics')\n",
    "            road_width = characteristic.find('span', class_='road-width').text\n",
    "            floor = characteristic.find('span', class_='floors')\n",
    "            if floor:\n",
    "                floor = floor.text\n",
    "            else:\n",
    "                floor = 0\n",
    "\n",
    "            bedroom = characteristic.find('span', class_='bedroom')\n",
    "            if bedroom:\n",
    "                bedroom = bedroom.text\n",
    "            else:\n",
    "                bedroom = 0\n",
    "\n",
    "            square_direct = house.find('div', class_='square-direct')\n",
    "            area = square_direct.find('div', class_='ct_dt').text[10:]\n",
    "            \n",
    "            price_dis = house.find('div', class_='price-dis')\n",
    "            address = price_dis.find('div', class_='ct_dis').text\n",
    "            price = price_dis.find('div', class_='ct_price').text[5:].split('/')[0]\n",
    "            new_row = {'road_width(m)': road_width, 'number_of_floor': floor, 'number_of_bedroom':bedroom, 'area(m2)': area, 'address': address, 'price(vnd)': price}\n",
    "            df.loc[len(df)] = new_row"
   ]
  },
  {
   "cell_type": "code",
   "execution_count": 4,
   "metadata": {},
   "outputs": [],
   "source": [
    "df.to_csv('data.csv', index = False, encoding='utf-8-sig')"
   ]
  }
 ],
 "metadata": {
  "kernelspec": {
   "display_name": "Python 3",
   "language": "python",
   "name": "python3"
  },
  "language_info": {
   "codemirror_mode": {
    "name": "ipython",
    "version": 3
   },
   "file_extension": ".py",
   "mimetype": "text/x-python",
   "name": "python",
   "nbconvert_exporter": "python",
   "pygments_lexer": "ipython3",
   "version": "3.11.4"
  },
  "orig_nbformat": 4
 },
 "nbformat": 4,
 "nbformat_minor": 2
}
